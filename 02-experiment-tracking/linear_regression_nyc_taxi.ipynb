{
 "cells": [
  {
   "cell_type": "code",
   "execution_count": 1,
   "id": "c8b1cb52-d905-4791-8f06-70645da9602e",
   "metadata": {},
   "outputs": [],
   "source": [
    "import pandas as pd\n",
    "from sklearn.linear_model import LinearRegression, Lasso\n",
    "from sklearn.metrics import root_mean_squared_error, mean_squared_error, mean_absolute_error\n",
    "from sklearn.feature_extraction import DictVectorizer\n",
    "import pickle\n",
    "import mlflow"
   ]
  },
  {
   "cell_type": "code",
   "execution_count": 2,
   "id": "c5497820-c257-42ca-a811-078a3b8eb23e",
   "metadata": {},
   "outputs": [],
   "source": [
    "def prepare_the_data(url):\n",
    "    df = pd.read_parquet(url)\n",
    "\n",
    "    # Convert into minutes\n",
    "    df['duration'] = df['tpep_dropoff_datetime'] - df['tpep_pickup_datetime']\n",
    "    df['duration_minutes'] = df['duration'].dt.total_seconds() / 60\n",
    "\n",
    "    # Filder df by trip time\n",
    "    df = df[(df['duration_minutes'] >= 1) & (df['duration_minutes'] <= 60)]\n",
    "\n",
    "    # Features defining\n",
    "    categorical_features = ['PULocationID', 'DOLocationID']\n",
    "    \n",
    "    # Data Type preparation\n",
    "    df[categorical_features] = df[categorical_features].astype(str)\n",
    "\n",
    "    return df[:100000]"
   ]
  },
  {
   "cell_type": "code",
   "execution_count": 3,
   "id": "da6562ae-318e-4344-9483-77a1d28d229f",
   "metadata": {},
   "outputs": [],
   "source": [
    "def lr_training(df):\n",
    "    features = df[['PULocationID', 'DOLocationID']]\n",
    "    y_true = df['duration_minutes']\n",
    "    features_dict = features.to_dict(orient=\"records\")\n",
    "\n",
    "    # Fit a dictionary vectorizer\n",
    "    dv = DictVectorizer(sparse=False)\n",
    "    X = dv.fit_transform(features_dict)\n",
    "\n",
    "    lr = LinearRegression()\n",
    "    lr.fit(X, y_true)\n",
    "\n",
    "    df['y_pred'] = lr.predict(X)\n",
    "\n",
    "    with open('models/simple_lin_reg.bin', 'wb') as f_out:\n",
    "        pickle.dump((dv, lr), f_out) \n",
    "\n",
    "    return mean_absolute_error(y_true, df['y_pred'])"
   ]
  },
  {
   "cell_type": "code",
   "execution_count": 4,
   "id": "5934eb98-b980-45f8-acb0-d3c6721af5ef",
   "metadata": {},
   "outputs": [],
   "source": [
    "df_train = prepare_the_data('https://d37ci6vzurychx.cloudfront.net/trip-data/yellow_tripdata_2024-06.parquet')"
   ]
  },
  {
   "cell_type": "code",
   "execution_count": 5,
   "id": "92d45cd7-6fbc-442b-ac6b-ee2b9d6c054e",
   "metadata": {},
   "outputs": [
    {
     "data": {
      "text/plain": [
       "(100000, 21)"
      ]
     },
     "execution_count": 5,
     "metadata": {},
     "output_type": "execute_result"
    }
   ],
   "source": [
    "df_train.shape"
   ]
  },
  {
   "cell_type": "code",
   "execution_count": 6,
   "id": "244c1139-a04a-4d3d-9033-ac252e990c2f",
   "metadata": {},
   "outputs": [
    {
     "data": {
      "text/plain": [
       "6.0781997096443"
      ]
     },
     "execution_count": 6,
     "metadata": {},
     "output_type": "execute_result"
    }
   ],
   "source": [
    "lr_training(df_train)"
   ]
  },
  {
   "cell_type": "code",
   "execution_count": 7,
   "id": "b595c8c2-fc4d-4261-9698-2cdf01135c91",
   "metadata": {},
   "outputs": [],
   "source": [
    "# Let's use this model in our valid set\n",
    "df_valid = prepare_the_data('https://d37ci6vzurychx.cloudfront.net/trip-data/yellow_tripdata_2024-07.parquet')"
   ]
  },
  {
   "cell_type": "code",
   "execution_count": 8,
   "id": "581472a6-9f90-44d9-bede-954ab98049ef",
   "metadata": {},
   "outputs": [
    {
     "data": {
      "text/plain": [
       "(100000, 21)"
      ]
     },
     "execution_count": 8,
     "metadata": {},
     "output_type": "execute_result"
    }
   ],
   "source": [
    "df_valid.shape"
   ]
  },
  {
   "cell_type": "code",
   "execution_count": 9,
   "id": "84b2b390-a54f-40ce-a1a4-c17ad12fe6f6",
   "metadata": {},
   "outputs": [],
   "source": [
    "def prediction(df):\n",
    "    # Load the model and DictVectorizer\n",
    "    with open('models/simple_lin_reg.bin', 'rb') as f_in:\n",
    "        dv, lr = pickle.load(f_in)\n",
    "        \n",
    "        features = df[['PULocationID', 'DOLocationID']]\n",
    "        y_true = df['duration_minutes']\n",
    "        features_dict = features.to_dict(orient=\"records\")\n",
    "    \n",
    "        # Use the already fitted DictVectorizer\n",
    "        X = dv.transform(features_dict)\n",
    "        \n",
    "        df['y_pred'] = lr.predict(X)\n",
    "    \n",
    "        return mean_absolute_error(y_true, df['y_pred'])"
   ]
  },
  {
   "cell_type": "code",
   "execution_count": 10,
   "id": "342fdf7d-a28d-4c84-9cca-f2f27dbe3a3c",
   "metadata": {},
   "outputs": [
    {
     "data": {
      "text/plain": [
       "6.375235023435177"
      ]
     },
     "execution_count": 10,
     "metadata": {},
     "output_type": "execute_result"
    }
   ],
   "source": [
    "prediction(df_valid)"
   ]
  },
  {
   "cell_type": "code",
   "execution_count": null,
   "id": "7c914095-d973-4fa1-9aa1-e164ba8b76b0",
   "metadata": {},
   "outputs": [],
   "source": []
  }
 ],
 "metadata": {
  "kernelspec": {
   "display_name": "your_environment_name",
   "language": "python",
   "name": "my_arm64_env"
  },
  "language_info": {
   "codemirror_mode": {
    "name": "ipython",
    "version": 3
   },
   "file_extension": ".py",
   "mimetype": "text/x-python",
   "name": "python",
   "nbconvert_exporter": "python",
   "pygments_lexer": "ipython3",
   "version": "3.9.21"
  }
 },
 "nbformat": 4,
 "nbformat_minor": 5
}
